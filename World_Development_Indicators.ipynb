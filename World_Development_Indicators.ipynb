{
 "cells": [
  {
   "cell_type": "code",
   "execution_count": 1,
   "metadata": {},
   "outputs": [],
   "source": [
    "#Create Dependencies\n",
    "import pandas as pd\n",
    "import matplotlib.pyplot as plt\n",
    "import numpy as np\n",
    "import scipy.stats as st\n",
    "from scipy.stats import linregress\n",
    "%matplotlib inline"
   ]
  },
  {
   "cell_type": "code",
   "execution_count": 2,
   "metadata": {},
   "outputs": [
    {
     "data": {
      "text/html": [
       "<div>\n",
       "<style scoped>\n",
       "    .dataframe tbody tr th:only-of-type {\n",
       "        vertical-align: middle;\n",
       "    }\n",
       "\n",
       "    .dataframe tbody tr th {\n",
       "        vertical-align: top;\n",
       "    }\n",
       "\n",
       "    .dataframe thead th {\n",
       "        text-align: right;\n",
       "    }\n",
       "</style>\n",
       "<table border=\"1\" class=\"dataframe\">\n",
       "  <thead>\n",
       "    <tr style=\"text-align: right;\">\n",
       "      <th></th>\n",
       "      <th>Unnamed: 0</th>\n",
       "      <th>CountryName_GDP_Cap</th>\n",
       "      <th>CountryCode</th>\n",
       "      <th>IndicatorName_GDP_Cap</th>\n",
       "      <th>IndicatorCode_GDP_Cap</th>\n",
       "      <th>1960_GDP_Cap</th>\n",
       "      <th>1961_GDP_Cap</th>\n",
       "      <th>1962_GDP_Cap</th>\n",
       "      <th>1963_GDP_Cap</th>\n",
       "      <th>1964_GDP_Cap</th>\n",
       "      <th>...</th>\n",
       "      <th>2010_Imports</th>\n",
       "      <th>2011_Imports</th>\n",
       "      <th>2012_Imports</th>\n",
       "      <th>2013_Imports</th>\n",
       "      <th>2014_Imports</th>\n",
       "      <th>2015_Imports</th>\n",
       "      <th>2016_Imports</th>\n",
       "      <th>2017_Imports</th>\n",
       "      <th>2018_Imports</th>\n",
       "      <th>2019_Imports</th>\n",
       "    </tr>\n",
       "  </thead>\n",
       "  <tbody>\n",
       "    <tr>\n",
       "      <th>0</th>\n",
       "      <td>0</td>\n",
       "      <td>Aruba</td>\n",
       "      <td>ABW</td>\n",
       "      <td>GDP per capita (current US$)</td>\n",
       "      <td>NY.GDP.PCAP.CD</td>\n",
       "      <td>NaN</td>\n",
       "      <td>NaN</td>\n",
       "      <td>NaN</td>\n",
       "      <td>NaN</td>\n",
       "      <td>NaN</td>\n",
       "      <td>...</td>\n",
       "      <td>1.854190e+09</td>\n",
       "      <td>2.136313e+09</td>\n",
       "      <td>2.089385e+09</td>\n",
       "      <td>2.130726e+09</td>\n",
       "      <td>2.113408e+09</td>\n",
       "      <td>2.035754e+09</td>\n",
       "      <td>1.975419e+09</td>\n",
       "      <td>2.031844e+09</td>\n",
       "      <td>NaN</td>\n",
       "      <td>NaN</td>\n",
       "    </tr>\n",
       "    <tr>\n",
       "      <th>1</th>\n",
       "      <td>1</td>\n",
       "      <td>Afghanistan</td>\n",
       "      <td>AFG</td>\n",
       "      <td>GDP per capita (current US$)</td>\n",
       "      <td>NY.GDP.PCAP.CD</td>\n",
       "      <td>59.773194</td>\n",
       "      <td>59.860874</td>\n",
       "      <td>58.458015</td>\n",
       "      <td>78.706388</td>\n",
       "      <td>82.095231</td>\n",
       "      <td>...</td>\n",
       "      <td>9.950050e+09</td>\n",
       "      <td>1.190656e+10</td>\n",
       "      <td>1.252506e+10</td>\n",
       "      <td>1.133990e+10</td>\n",
       "      <td>1.053200e+10</td>\n",
       "      <td>8.647160e+09</td>\n",
       "      <td>8.079197e+09</td>\n",
       "      <td>9.153344e+09</td>\n",
       "      <td>NaN</td>\n",
       "      <td>NaN</td>\n",
       "    </tr>\n",
       "    <tr>\n",
       "      <th>2</th>\n",
       "      <td>2</td>\n",
       "      <td>Angola</td>\n",
       "      <td>AGO</td>\n",
       "      <td>GDP per capita (current US$)</td>\n",
       "      <td>NY.GDP.PCAP.CD</td>\n",
       "      <td>NaN</td>\n",
       "      <td>NaN</td>\n",
       "      <td>NaN</td>\n",
       "      <td>NaN</td>\n",
       "      <td>NaN</td>\n",
       "      <td>...</td>\n",
       "      <td>3.568226e+10</td>\n",
       "      <td>4.394739e+10</td>\n",
       "      <td>4.591971e+10</td>\n",
       "      <td>4.930420e+10</td>\n",
       "      <td>5.047164e+10</td>\n",
       "      <td>3.849951e+10</td>\n",
       "      <td>2.552939e+10</td>\n",
       "      <td>2.839711e+10</td>\n",
       "      <td>NaN</td>\n",
       "      <td>NaN</td>\n",
       "    </tr>\n",
       "    <tr>\n",
       "      <th>3</th>\n",
       "      <td>3</td>\n",
       "      <td>Albania</td>\n",
       "      <td>ALB</td>\n",
       "      <td>GDP per capita (current US$)</td>\n",
       "      <td>NY.GDP.PCAP.CD</td>\n",
       "      <td>NaN</td>\n",
       "      <td>NaN</td>\n",
       "      <td>NaN</td>\n",
       "      <td>NaN</td>\n",
       "      <td>NaN</td>\n",
       "      <td>...</td>\n",
       "      <td>5.792202e+09</td>\n",
       "      <td>6.700290e+09</td>\n",
       "      <td>5.860856e+09</td>\n",
       "      <td>5.999409e+09</td>\n",
       "      <td>6.243051e+09</td>\n",
       "      <td>5.071012e+09</td>\n",
       "      <td>5.436291e+09</td>\n",
       "      <td>6.070288e+09</td>\n",
       "      <td>6.856193e+09</td>\n",
       "      <td>NaN</td>\n",
       "    </tr>\n",
       "    <tr>\n",
       "      <th>4</th>\n",
       "      <td>4</td>\n",
       "      <td>Andorra</td>\n",
       "      <td>AND</td>\n",
       "      <td>GDP per capita (current US$)</td>\n",
       "      <td>NY.GDP.PCAP.CD</td>\n",
       "      <td>NaN</td>\n",
       "      <td>NaN</td>\n",
       "      <td>NaN</td>\n",
       "      <td>NaN</td>\n",
       "      <td>NaN</td>\n",
       "      <td>...</td>\n",
       "      <td>NaN</td>\n",
       "      <td>NaN</td>\n",
       "      <td>NaN</td>\n",
       "      <td>NaN</td>\n",
       "      <td>NaN</td>\n",
       "      <td>NaN</td>\n",
       "      <td>NaN</td>\n",
       "      <td>NaN</td>\n",
       "      <td>NaN</td>\n",
       "      <td>NaN</td>\n",
       "    </tr>\n",
       "  </tbody>\n",
       "</table>\n",
       "<p>5 rows × 317 columns</p>\n",
       "</div>"
      ],
      "text/plain": [
       "   Unnamed: 0 CountryName_GDP_Cap CountryCode         IndicatorName_GDP_Cap  \\\n",
       "0           0               Aruba         ABW  GDP per capita (current US$)   \n",
       "1           1         Afghanistan         AFG  GDP per capita (current US$)   \n",
       "2           2              Angola         AGO  GDP per capita (current US$)   \n",
       "3           3             Albania         ALB  GDP per capita (current US$)   \n",
       "4           4             Andorra         AND  GDP per capita (current US$)   \n",
       "\n",
       "  IndicatorCode_GDP_Cap  1960_GDP_Cap  1961_GDP_Cap  1962_GDP_Cap  \\\n",
       "0        NY.GDP.PCAP.CD           NaN           NaN           NaN   \n",
       "1        NY.GDP.PCAP.CD     59.773194     59.860874     58.458015   \n",
       "2        NY.GDP.PCAP.CD           NaN           NaN           NaN   \n",
       "3        NY.GDP.PCAP.CD           NaN           NaN           NaN   \n",
       "4        NY.GDP.PCAP.CD           NaN           NaN           NaN   \n",
       "\n",
       "   1963_GDP_Cap  1964_GDP_Cap  ...  2010_Imports  2011_Imports  2012_Imports  \\\n",
       "0           NaN           NaN  ...  1.854190e+09  2.136313e+09  2.089385e+09   \n",
       "1     78.706388     82.095231  ...  9.950050e+09  1.190656e+10  1.252506e+10   \n",
       "2           NaN           NaN  ...  3.568226e+10  4.394739e+10  4.591971e+10   \n",
       "3           NaN           NaN  ...  5.792202e+09  6.700290e+09  5.860856e+09   \n",
       "4           NaN           NaN  ...           NaN           NaN           NaN   \n",
       "\n",
       "   2013_Imports  2014_Imports  2015_Imports  2016_Imports  2017_Imports  \\\n",
       "0  2.130726e+09  2.113408e+09  2.035754e+09  1.975419e+09  2.031844e+09   \n",
       "1  1.133990e+10  1.053200e+10  8.647160e+09  8.079197e+09  9.153344e+09   \n",
       "2  4.930420e+10  5.047164e+10  3.849951e+10  2.552939e+10  2.839711e+10   \n",
       "3  5.999409e+09  6.243051e+09  5.071012e+09  5.436291e+09  6.070288e+09   \n",
       "4           NaN           NaN           NaN           NaN           NaN   \n",
       "\n",
       "   2018_Imports  2019_Imports  \n",
       "0           NaN           NaN  \n",
       "1           NaN           NaN  \n",
       "2           NaN           NaN  \n",
       "3  6.856193e+09           NaN  \n",
       "4           NaN           NaN  \n",
       "\n",
       "[5 rows x 317 columns]"
      ]
     },
     "execution_count": 2,
     "metadata": {},
     "output_type": "execute_result"
    }
   ],
   "source": [
    "#Merge the DataFrames\n",
    "#Summary & Imports Mortality\n",
    "\n",
    "summary1_df = pd.read_csv(\"World_Development_indicators.csv\")\n",
    "summary1_df.head()"
   ]
  },
  {
   "cell_type": "code",
   "execution_count": 3,
   "metadata": {},
   "outputs": [
    {
     "data": {
      "text/plain": [
       "255       95.188250\n",
       "211      126.924920\n",
       "208      150.389032\n",
       "244      173.790639\n",
       "176      191.878904\n",
       "           ...     \n",
       "221    30343.182870\n",
       "142    34645.143240\n",
       "35     38428.385500\n",
       "135    49375.325280\n",
       "147    84289.559540\n",
       "Name: 1990_GDP_Cap, Length: 221, dtype: float64"
      ]
     },
     "execution_count": 3,
     "metadata": {},
     "output_type": "execute_result"
    }
   ],
   "source": [
    "summary_1990_GDP_df = summary1_df.sort_values(\"1990_GDP_Cap\")\n",
    "summary_1990_GDP_df.head()\n",
    "summary_variable=summary_1990_GDP_df['1990_GDP_Cap'].dropna()\n",
    "summary_variable"
   ]
  },
  {
   "cell_type": "code",
   "execution_count": 4,
   "metadata": {},
   "outputs": [
    {
     "data": {
      "text/plain": [
       "255     95.188250\n",
       "211    126.924920\n",
       "208    150.389032\n",
       "244    173.790639\n",
       "176    191.878904\n",
       "Name: 1990_GDP_Cap, dtype: float64"
      ]
     },
     "execution_count": 4,
     "metadata": {},
     "output_type": "execute_result"
    }
   ],
   "source": [
    "summary_new=summary_variable[0:5]\n",
    "\n",
    "summary_new"
   ]
  },
  {
   "cell_type": "code",
   "execution_count": 27,
   "metadata": {},
   "outputs": [
    {
     "data": {
      "text/html": [
       "<div>\n",
       "<style scoped>\n",
       "    .dataframe tbody tr th:only-of-type {\n",
       "        vertical-align: middle;\n",
       "    }\n",
       "\n",
       "    .dataframe tbody tr th {\n",
       "        vertical-align: top;\n",
       "    }\n",
       "\n",
       "    .dataframe thead th {\n",
       "        text-align: right;\n",
       "    }\n",
       "</style>\n",
       "<table border=\"1\" class=\"dataframe\">\n",
       "  <thead>\n",
       "    <tr style=\"text-align: right;\">\n",
       "      <th></th>\n",
       "      <th>CountryName_GDP_Cap</th>\n",
       "    </tr>\n",
       "  </thead>\n",
       "  <tbody>\n",
       "    <tr>\n",
       "      <th>255</th>\n",
       "      <td>Vietnam</td>\n",
       "    </tr>\n",
       "    <tr>\n",
       "      <th>211</th>\n",
       "      <td>Somalia</td>\n",
       "    </tr>\n",
       "    <tr>\n",
       "      <th>208</th>\n",
       "      <td>Sierra Leone</td>\n",
       "    </tr>\n",
       "    <tr>\n",
       "      <th>244</th>\n",
       "      <td>Tanzania</td>\n",
       "    </tr>\n",
       "    <tr>\n",
       "      <th>176</th>\n",
       "      <td>Nepal</td>\n",
       "    </tr>\n",
       "  </tbody>\n",
       "</table>\n",
       "</div>"
      ],
      "text/plain": [
       "    CountryName_GDP_Cap\n",
       "255             Vietnam\n",
       "211             Somalia\n",
       "208        Sierra Leone\n",
       "244            Tanzania\n",
       "176               Nepal"
      ]
     },
     "execution_count": 27,
     "metadata": {},
     "output_type": "execute_result"
    }
   ],
   "source": [
    "summary1_df.iloc[[255,211,208,244,176],[1]]"
   ]
  },
  {
   "cell_type": "code",
   "execution_count": 30,
   "metadata": {},
   "outputs": [
    {
     "data": {
      "text/html": [
       "<div>\n",
       "<style scoped>\n",
       "    .dataframe tbody tr th:only-of-type {\n",
       "        vertical-align: middle;\n",
       "    }\n",
       "\n",
       "    .dataframe tbody tr th {\n",
       "        vertical-align: top;\n",
       "    }\n",
       "\n",
       "    .dataframe thead th {\n",
       "        text-align: right;\n",
       "    }\n",
       "</style>\n",
       "<table border=\"1\" class=\"dataframe\">\n",
       "  <thead>\n",
       "    <tr style=\"text-align: right;\">\n",
       "      <th></th>\n",
       "      <th>country</th>\n",
       "      <th>GDP_Cap</th>\n",
       "    </tr>\n",
       "  </thead>\n",
       "  <tbody>\n",
       "    <tr>\n",
       "      <th>0</th>\n",
       "      <td>Vietnam</td>\n",
       "      <td>95.188250</td>\n",
       "    </tr>\n",
       "    <tr>\n",
       "      <th>1</th>\n",
       "      <td>Somalia</td>\n",
       "      <td>126.924920</td>\n",
       "    </tr>\n",
       "    <tr>\n",
       "      <th>2</th>\n",
       "      <td>Seora Leone</td>\n",
       "      <td>150.389032</td>\n",
       "    </tr>\n",
       "    <tr>\n",
       "      <th>3</th>\n",
       "      <td>Tanzania</td>\n",
       "      <td>173.790639</td>\n",
       "    </tr>\n",
       "    <tr>\n",
       "      <th>4</th>\n",
       "      <td>Nepal</td>\n",
       "      <td>191.878904</td>\n",
       "    </tr>\n",
       "  </tbody>\n",
       "</table>\n",
       "</div>"
      ],
      "text/plain": [
       "       country     GDP_Cap\n",
       "0      Vietnam   95.188250\n",
       "1      Somalia  126.924920\n",
       "2  Seora Leone  150.389032\n",
       "3     Tanzania  173.790639\n",
       "4        Nepal  191.878904"
      ]
     },
     "execution_count": 30,
     "metadata": {},
     "output_type": "execute_result"
    }
   ],
   "source": [
    "GDP_Cap = [95.188250,126.924920, 150.389032, 173.790639, 191.878904]\n",
    "country = ['Vietnam','Somalia','Seora Leone','Tanzania','Nepal']\n",
    "\n",
    "#dataframe\n",
    "data = {'country': pd.Series(country), 'GDP_Cap': pd.Series(GDP_Cap)}\n",
    "dataframe =pd. DataFrame(data)\n",
    "dataframe"
   ]
  },
  {
   "cell_type": "code",
   "execution_count": 32,
   "metadata": {},
   "outputs": [
    {
     "data": {
      "text/plain": [
       "Text(0, 0.5, 'GDP per capita')"
      ]
     },
     "execution_count": 32,
     "metadata": {},
     "output_type": "execute_result"
    },
    {
     "data": {
      "image/png": "[encoded data removed]",
      "text/plain": [
       "<Figure size 720x360 with 1 Axes>"
      ]
     },
     "metadata": {
      "needs_background": "light"
     },
     "output_type": "display_data"
    }
   ],
   "source": [
    "plt.figure(figsize=(10,5))\n",
    "plt.bar(country,GDP_Cap, color = \"b\", alpha = 0.5, width = 0.4)\n",
    "\n",
    "# Set a Title and labels\n",
    "plt.title(\"GDP per capita 1990\")\n",
    "plt.xlabel(\"country\")\n",
    "plt.ylabel(\"GDP per capita\")"
   ]
  },
  {
   "cell_type": "code",
   "execution_count": 7,
   "metadata": {},
   "outputs": [
    {
     "data": {
      "text/plain": [
       "73     28364.64508\n",
       "221    30343.18287\n",
       "142    34645.14324\n",
       "35     38428.38550\n",
       "135    49375.32528\n",
       "Name: 1990_GDP_Cap, dtype: float64"
      ]
     },
     "execution_count": 7,
     "metadata": {},
     "output_type": "execute_result"
    }
   ],
   "source": [
    "summary_new1=summary_variable[-6:-1]\n",
    "summary_new1 "
   ]
  },
  {
   "cell_type": "code",
   "execution_count": 8,
   "metadata": {},
   "outputs": [
    {
     "data": {
      "text/html": [
       "<div>\n",
       "<style scoped>\n",
       "    .dataframe tbody tr th:only-of-type {\n",
       "        vertical-align: middle;\n",
       "    }\n",
       "\n",
       "    .dataframe tbody tr th {\n",
       "        vertical-align: top;\n",
       "    }\n",
       "\n",
       "    .dataframe thead th {\n",
       "        text-align: right;\n",
       "    }\n",
       "</style>\n",
       "<table border=\"1\" class=\"dataframe\">\n",
       "  <thead>\n",
       "    <tr style=\"text-align: right;\">\n",
       "      <th></th>\n",
       "      <th>CountryName_GDP_Cap</th>\n",
       "    </tr>\n",
       "  </thead>\n",
       "  <tbody>\n",
       "    <tr>\n",
       "      <th>73</th>\n",
       "      <td>Finland</td>\n",
       "    </tr>\n",
       "    <tr>\n",
       "      <th>221</th>\n",
       "      <td>Sweden</td>\n",
       "    </tr>\n",
       "    <tr>\n",
       "      <th>142</th>\n",
       "      <td>Luxembourg</td>\n",
       "    </tr>\n",
       "    <tr>\n",
       "      <th>35</th>\n",
       "      <td>Switzerland</td>\n",
       "    </tr>\n",
       "    <tr>\n",
       "      <th>135</th>\n",
       "      <td>Liechtenstein</td>\n",
       "    </tr>\n",
       "  </tbody>\n",
       "</table>\n",
       "</div>"
      ],
      "text/plain": [
       "    CountryName_GDP_Cap\n",
       "73              Finland\n",
       "221              Sweden\n",
       "142          Luxembourg\n",
       "35          Switzerland\n",
       "135       Liechtenstein"
      ]
     },
     "execution_count": 8,
     "metadata": {},
     "output_type": "execute_result"
    }
   ],
   "source": [
    "summary1_df.iloc[[73, 221,142,35,135],[1]]"
   ]
  },
  {
   "cell_type": "code",
   "execution_count": null,
   "metadata": {},
   "outputs": [],
   "source": []
  },
  {
   "cell_type": "code",
   "execution_count": 18,
   "metadata": {},
   "outputs": [
    {
     "data": {
      "text/html": [
       "<div>\n",
       "<style scoped>\n",
       "    .dataframe tbody tr th:only-of-type {\n",
       "        vertical-align: middle;\n",
       "    }\n",
       "\n",
       "    .dataframe tbody tr th {\n",
       "        vertical-align: top;\n",
       "    }\n",
       "\n",
       "    .dataframe thead th {\n",
       "        text-align: right;\n",
       "    }\n",
       "</style>\n",
       "<table border=\"1\" class=\"dataframe\">\n",
       "  <thead>\n",
       "    <tr style=\"text-align: right;\">\n",
       "      <th></th>\n",
       "      <th>country</th>\n",
       "      <th>GDP_Cap</th>\n",
       "    </tr>\n",
       "  </thead>\n",
       "  <tbody>\n",
       "    <tr>\n",
       "      <th>0</th>\n",
       "      <td>255</td>\n",
       "      <td>95.188250</td>\n",
       "    </tr>\n",
       "    <tr>\n",
       "      <th>1</th>\n",
       "      <td>211</td>\n",
       "      <td>126.924920</td>\n",
       "    </tr>\n",
       "    <tr>\n",
       "      <th>2</th>\n",
       "      <td>208</td>\n",
       "      <td>150.389032</td>\n",
       "    </tr>\n",
       "    <tr>\n",
       "      <th>3</th>\n",
       "      <td>244</td>\n",
       "      <td>173.790639</td>\n",
       "    </tr>\n",
       "    <tr>\n",
       "      <th>4</th>\n",
       "      <td>176</td>\n",
       "      <td>191.878904</td>\n",
       "    </tr>\n",
       "  </tbody>\n",
       "</table>\n",
       "</div>"
      ],
      "text/plain": [
       "   country     GDP_Cap\n",
       "0      255   95.188250\n",
       "1      211  126.924920\n",
       "2      208  150.389032\n",
       "3      244  173.790639\n",
       "4      176  191.878904"
      ]
     },
     "execution_count": 18,
     "metadata": {},
     "output_type": "execute_result"
    }
   ],
   "source": [
    "GDP_Cap1 = [28364.64508,30343.18287,34645.14324,38428.38550, 49375.32528]\n",
    "country1 = ['Finland','Sweden', 'Luxembourg','Switzeland', 'Liechtenstein']\n",
    "\n",
    "#dataframe\n",
    "data1 = {'country1': pd.Series(country1), 'GDP_Cap1': pd.Series(GDP_Cap1)}\n",
    "dataframe1 =pd. DataFrame(data)\n",
    "dataframe1"
   ]
  },
  {
   "cell_type": "code",
   "execution_count": 20,
   "metadata": {},
   "outputs": [
    {
     "data": {
      "text/plain": [
       "Text(0, 0.5, 'GDP per capita')"
      ]
     },
     "execution_count": 20,
     "metadata": {},
     "output_type": "execute_result"
    },
    {
     "data": {
      "image/png": "[encoded data removed]",
      "text/plain": [
       "<Figure size 1080x360 with 1 Axes>"
      ]
     },
     "metadata": {
      "needs_background": "light"
     },
     "output_type": "display_data"
    }
   ],
   "source": [
    "plt.figure(figsize=(15,5))\n",
    "plt.bar(country1,GDP_Cap1, color = \"r\", alpha = 0.5, width = 0.2)\n",
    "\n",
    "# Set a Title and labels\n",
    "plt.title(\"GDP per capita 1990\")\n",
    "plt.xlabel(\"country1\")\n",
    "plt.ylabel(\"GDP per capita\")"
   ]
  },
  {
   "cell_type": "code",
   "execution_count": 41,
   "metadata": {},
   "outputs": [
    {
     "data": {
      "text/plain": [
       "14        292.997631\n",
       "211       309.055355\n",
       "166       356.717573\n",
       "171       375.869490\n",
       "32        449.786424\n",
       "           ...      \n",
       "106     80989.172210\n",
       "50      81124.513480\n",
       "144     81516.674920\n",
       "142    107361.306900\n",
       "147    167101.759400\n",
       "Name: 2017_GDP_Cap, Length: 247, dtype: float64"
      ]
     },
     "execution_count": 41,
     "metadata": {},
     "output_type": "execute_result"
    }
   ],
   "source": [
    "#2007\n",
    "summary_2007_GDP_df = summary1_df.sort_values(\"2017_GDP_Cap\")\n",
    "summary_2007_GDP_df.head()\n",
    "summary_variable=summary_2007_GDP_df['2017_GDP_Cap'].dropna()\n",
    "summary_variable"
   ]
  },
  {
   "cell_type": "code",
   "execution_count": 42,
   "metadata": {},
   "outputs": [
    {
     "data": {
      "text/plain": [
       "14     292.997631\n",
       "211    309.055355\n",
       "166    356.717573\n",
       "171    375.869490\n",
       "32     449.786424\n",
       "Name: 2017_GDP_Cap, dtype: float64"
      ]
     },
     "execution_count": 42,
     "metadata": {},
     "output_type": "execute_result"
    }
   ],
   "source": [
    "summary_new07=summary_variable[0:5]\n",
    "\n",
    "summary_new07"
   ]
  },
  {
   "cell_type": "code",
   "execution_count": 43,
   "metadata": {},
   "outputs": [
    {
     "data": {
      "text/html": [
       "<div>\n",
       "<style scoped>\n",
       "    .dataframe tbody tr th:only-of-type {\n",
       "        vertical-align: middle;\n",
       "    }\n",
       "\n",
       "    .dataframe tbody tr th {\n",
       "        vertical-align: top;\n",
       "    }\n",
       "\n",
       "    .dataframe thead th {\n",
       "        text-align: right;\n",
       "    }\n",
       "</style>\n",
       "<table border=\"1\" class=\"dataframe\">\n",
       "  <thead>\n",
       "    <tr style=\"text-align: right;\">\n",
       "      <th></th>\n",
       "      <th>CountryName_GDP_Cap</th>\n",
       "    </tr>\n",
       "  </thead>\n",
       "  <tbody>\n",
       "    <tr>\n",
       "      <th>14</th>\n",
       "      <td>Burundi</td>\n",
       "    </tr>\n",
       "    <tr>\n",
       "      <th>211</th>\n",
       "      <td>Somalia</td>\n",
       "    </tr>\n",
       "    <tr>\n",
       "      <th>166</th>\n",
       "      <td>Malawi</td>\n",
       "    </tr>\n",
       "    <tr>\n",
       "      <th>171</th>\n",
       "      <td>Niger</td>\n",
       "    </tr>\n",
       "    <tr>\n",
       "      <th>32</th>\n",
       "      <td>Central African Republic</td>\n",
       "    </tr>\n",
       "  </tbody>\n",
       "</table>\n",
       "</div>"
      ],
      "text/plain": [
       "          CountryName_GDP_Cap\n",
       "14                    Burundi\n",
       "211                   Somalia\n",
       "166                    Malawi\n",
       "171                     Niger\n",
       "32   Central African Republic"
      ]
     },
     "execution_count": 43,
     "metadata": {},
     "output_type": "execute_result"
    }
   ],
   "source": [
    "summary1_df.iloc[[14,211,166,171,32],[1]]"
   ]
  },
  {
   "cell_type": "code",
   "execution_count": 44,
   "metadata": {},
   "outputs": [
    {
     "data": {
      "text/html": [
       "<div>\n",
       "<style scoped>\n",
       "    .dataframe tbody tr th:only-of-type {\n",
       "        vertical-align: middle;\n",
       "    }\n",
       "\n",
       "    .dataframe tbody tr th {\n",
       "        vertical-align: top;\n",
       "    }\n",
       "\n",
       "    .dataframe thead th {\n",
       "        text-align: right;\n",
       "    }\n",
       "</style>\n",
       "<table border=\"1\" class=\"dataframe\">\n",
       "  <thead>\n",
       "    <tr style=\"text-align: right;\">\n",
       "      <th></th>\n",
       "      <th>country07</th>\n",
       "      <th>GDP_Cap07</th>\n",
       "    </tr>\n",
       "  </thead>\n",
       "  <tbody>\n",
       "    <tr>\n",
       "      <th>0</th>\n",
       "      <td>Burundi</td>\n",
       "      <td>172.495860</td>\n",
       "    </tr>\n",
       "    <tr>\n",
       "      <th>1</th>\n",
       "      <td>Somalia</td>\n",
       "      <td>244.286037</td>\n",
       "    </tr>\n",
       "    <tr>\n",
       "      <th>2</th>\n",
       "      <td>Malawi</td>\n",
       "      <td>286.330492</td>\n",
       "    </tr>\n",
       "    <tr>\n",
       "      <th>3</th>\n",
       "      <td>Niger</td>\n",
       "      <td>292.219734</td>\n",
       "    </tr>\n",
       "    <tr>\n",
       "      <th>4</th>\n",
       "      <td>Central Africa Republic</td>\n",
       "      <td>332.259144</td>\n",
       "    </tr>\n",
       "  </tbody>\n",
       "</table>\n",
       "</div>"
      ],
      "text/plain": [
       "                 country07   GDP_Cap07\n",
       "0                  Burundi  172.495860\n",
       "1                  Somalia  244.286037\n",
       "2                   Malawi  286.330492\n",
       "3                    Niger  292.219734\n",
       "4  Central Africa Republic  332.259144"
      ]
     },
     "execution_count": 44,
     "metadata": {},
     "output_type": "execute_result"
    }
   ],
   "source": [
    "GDP_Cap07 = [172.495860, 244.286037, 286.330492, 292.219734,332.259144]\n",
    "country07 = ['Burundi','Somalia',' Malawi','Niger','Central Africa Republic']\n",
    "\n",
    "#dataframe\n",
    "data07 = {'country07': pd.Series(country07), 'GDP_Cap07': pd.Series(GDP_Cap07)}\n",
    "dataframe07 =pd. DataFrame(data07)\n",
    "dataframe07"
   ]
  },
  {
   "cell_type": "code",
   "execution_count": 51,
   "metadata": {},
   "outputs": [
    {
     "data": {
      "text/plain": [
       "Text(0, 0.5, 'GDP per capita')"
      ]
     },
     "execution_count": 51,
     "metadata": {},
     "output_type": "execute_result"
    },
    {
     "data": {
      "image/png": "[encoded data removed]",
      "text/plain": [
       "<Figure size 720x360 with 1 Axes>"
      ]
     },
     "metadata": {
      "needs_background": "light"
     },
     "output_type": "display_data"
    }
   ],
   "source": [
    "plt.figure(figsize=(10,5))\n",
    "plt.bar(country07,GDP_Cap07, color = \"y\", alpha = 0.5, width = 0.5)\n",
    "\n",
    "# Set a Title and labels\n",
    "plt.title(\"GDP per capita 2017\")\n",
    "plt.xlabel(\"country07\")\n",
    "plt.ylabel(\"GDP per capita\")"
   ]
  },
  {
   "cell_type": "code",
   "execution_count": 46,
   "metadata": {},
   "outputs": [
    {
     "data": {
      "text/plain": [
       "35      80450.04582\n",
       "106     80989.17221\n",
       "50      81124.51348\n",
       "144     81516.67492\n",
       "142    107361.30690\n",
       "Name: 2017_GDP_Cap, dtype: float64"
      ]
     },
     "execution_count": 46,
     "metadata": {},
     "output_type": "execute_result"
    }
   ],
   "source": [
    "summary_new_bottom5=summary_variable[-6:-1]\n",
    "\n",
    "summary_new_bottom5"
   ]
  },
  {
   "cell_type": "code",
   "execution_count": 47,
   "metadata": {},
   "outputs": [
    {
     "data": {
      "text/html": [
       "<div>\n",
       "<style scoped>\n",
       "    .dataframe tbody tr th:only-of-type {\n",
       "        vertical-align: middle;\n",
       "    }\n",
       "\n",
       "    .dataframe tbody tr th {\n",
       "        vertical-align: top;\n",
       "    }\n",
       "\n",
       "    .dataframe thead th {\n",
       "        text-align: right;\n",
       "    }\n",
       "</style>\n",
       "<table border=\"1\" class=\"dataframe\">\n",
       "  <thead>\n",
       "    <tr style=\"text-align: right;\">\n",
       "      <th></th>\n",
       "      <th>CountryName_GDP_Cap</th>\n",
       "    </tr>\n",
       "  </thead>\n",
       "  <tbody>\n",
       "    <tr>\n",
       "      <th>35</th>\n",
       "      <td>Switzerland</td>\n",
       "    </tr>\n",
       "    <tr>\n",
       "      <th>106</th>\n",
       "      <td>Isle of Man</td>\n",
       "    </tr>\n",
       "    <tr>\n",
       "      <th>50</th>\n",
       "      <td>Cayman Islands</td>\n",
       "    </tr>\n",
       "    <tr>\n",
       "      <th>144</th>\n",
       "      <td>Macao SAR, China</td>\n",
       "    </tr>\n",
       "    <tr>\n",
       "      <th>142</th>\n",
       "      <td>Luxembourg</td>\n",
       "    </tr>\n",
       "  </tbody>\n",
       "</table>\n",
       "</div>"
      ],
      "text/plain": [
       "    CountryName_GDP_Cap\n",
       "35          Switzerland\n",
       "106         Isle of Man\n",
       "50       Cayman Islands\n",
       "144    Macao SAR, China\n",
       "142          Luxembourg"
      ]
     },
     "execution_count": 47,
     "metadata": {},
     "output_type": "execute_result"
    }
   ],
   "source": [
    "summary1_df.iloc[[35,106,50,144,142],[1]]"
   ]
  },
  {
   "cell_type": "code",
   "execution_count": 48,
   "metadata": {},
   "outputs": [
    {
     "data": {
      "text/html": [
       "<div>\n",
       "<style scoped>\n",
       "    .dataframe tbody tr th:only-of-type {\n",
       "        vertical-align: middle;\n",
       "    }\n",
       "\n",
       "    .dataframe tbody tr th {\n",
       "        vertical-align: top;\n",
       "    }\n",
       "\n",
       "    .dataframe thead th {\n",
       "        text-align: right;\n",
       "    }\n",
       "</style>\n",
       "<table border=\"1\" class=\"dataframe\">\n",
       "  <thead>\n",
       "    <tr style=\"text-align: right;\">\n",
       "      <th></th>\n",
       "      <th>country_Top5</th>\n",
       "      <th>GDP_Cap_Top5</th>\n",
       "    </tr>\n",
       "  </thead>\n",
       "  <tbody>\n",
       "    <tr>\n",
       "      <th>0</th>\n",
       "      <td>Switzerland</td>\n",
       "      <td>85139.96045</td>\n",
       "    </tr>\n",
       "    <tr>\n",
       "      <th>1</th>\n",
       "      <td>Isle of Man</td>\n",
       "      <td>85434.26817</td>\n",
       "    </tr>\n",
       "    <tr>\n",
       "      <th>2</th>\n",
       "      <td>Cayman Islands</td>\n",
       "      <td>90849.58698</td>\n",
       "    </tr>\n",
       "    <tr>\n",
       "      <th>3</th>\n",
       "      <td>Macao SAR China</td>\n",
       "      <td>106018.49280</td>\n",
       "    </tr>\n",
       "    <tr>\n",
       "      <th>4</th>\n",
       "      <td>Luxembourg</td>\n",
       "      <td>130655.63700</td>\n",
       "    </tr>\n",
       "  </tbody>\n",
       "</table>\n",
       "</div>"
      ],
      "text/plain": [
       "      country_Top5  GDP_Cap_Top5\n",
       "0      Switzerland   85139.96045\n",
       "1      Isle of Man   85434.26817\n",
       "2   Cayman Islands   90849.58698\n",
       "3  Macao SAR China  106018.49280\n",
       "4       Luxembourg  130655.63700"
      ]
     },
     "execution_count": 48,
     "metadata": {},
     "output_type": "execute_result"
    }
   ],
   "source": [
    "GDP_Cap_Top5 = [85139.96045,85434.26817,90849.58698,106018.49280,130655.63700]\n",
    "country_Top5 = ['Switzerland','Isle of Man', 'Cayman Islands', 'Macao SAR China','Luxembourg']\n",
    "\n",
    "#dataframe\n",
    "data_Top5 = {'country_Top5': pd.Series(country_Top5), 'GDP_Cap_Top5': pd.Series(GDP_Cap_Top5)}\n",
    "dataframe_Top5 =pd. DataFrame(data_Top5)\n",
    "dataframe_Top5"
   ]
  },
  {
   "cell_type": "code",
   "execution_count": 50,
   "metadata": {},
   "outputs": [
    {
     "data": {
      "text/plain": [
       "Text(0, 0.5, 'GDP per capita')"
      ]
     },
     "execution_count": 50,
     "metadata": {},
     "output_type": "execute_result"
    },
    {
     "data": {
      "image/png": "[encoded data removed]",
      "text/plain": [
       "<Figure size 720x360 with 1 Axes>"
      ]
     },
     "metadata": {
      "needs_background": "light"
     },
     "output_type": "display_data"
    }
   ],
   "source": [
    "plt.figure(figsize=(10,5))\n",
    "plt.bar(country_Top5, GDP_Cap_Top5, color = \"m\", alpha = 0.5, width = 0.5)\n",
    "\n",
    "# Set a Title and labels\n",
    "plt.title(\"GDP per capita 2017\")\n",
    "plt.xlabel(\"country_Top5\")\n",
    "plt.ylabel(\"GDP per capita\")"
   ]
  },
  {
   "cell_type": "code",
   "execution_count": 40,
   "metadata": {},
   "outputs": [
    {
     "data": {
      "text/plain": [
       "255       95.188250\n",
       "211      126.924920\n",
       "208      150.389032\n",
       "244      173.790639\n",
       "176      191.878904\n",
       "           ...     \n",
       "221    30343.182870\n",
       "142    34645.143240\n",
       "35     38428.385500\n",
       "135    49375.325280\n",
       "147    84289.559540\n",
       "Name: 1990_GDP_Cap, Length: 221, dtype: float64"
      ]
     },
     "execution_count": 40,
     "metadata": {},
     "output_type": "execute_result"
    }
   ],
   "source": [
    "summary_1990_GDP_df = summary1_df.sort_values(\"1990_GDP_Cap\")\n",
    "summary_1990_GDP_df.head()\n",
    "summary_variable=summary_1990_GDP_df['1990_GDP_Cap'].dropna()\n",
    "summary_variable"
   ]
  },
  {
   "cell_type": "code",
   "execution_count": 39,
   "metadata": {},
   "outputs": [
    {
     "data": {
      "text/plain": [
       "14        172.495860\n",
       "70        244.286037\n",
       "41        286.330492\n",
       "171       292.219734\n",
       "166       332.259144\n",
       "           ...      \n",
       "50      85434.268170\n",
       "25      90849.586980\n",
       "142    106018.492800\n",
       "135    130655.637000\n",
       "147    169961.383900\n",
       "Name: 2007_GDP_Cap, Length: 253, dtype: float64"
      ]
     },
     "execution_count": 39,
     "metadata": {},
     "output_type": "execute_result"
    }
   ],
   "source": [
    "summary_2007_GDP_df = summary1_df.sort_values(\"2007_GDP_Cap\")\n",
    "summary_2007_GDP_df.head()\n",
    "summary_variable=summary_2007_GDP_df['2007_GDP_Cap'].dropna()\n",
    "summary_variable"
   ]
  },
  {
   "cell_type": "code",
   "execution_count": null,
   "metadata": {},
   "outputs": [],
   "source": []
  }
 ],
 "metadata": {
  "kernelspec": {
   "display_name": "Python 3",
   "language": "python",
   "name": "python3"
  },
  "language_info": {
   "codemirror_mode": {
    "name": "ipython",
    "version": 3
   },
   "file_extension": ".py",
   "mimetype": "text/x-python",
   "name": "python",
   "nbconvert_exporter": "python",
   "pygments_lexer": "ipython3",
   "version": "3.6.10"
  }
 },
 "nbformat": 4,
 "nbformat_minor": 4
}
