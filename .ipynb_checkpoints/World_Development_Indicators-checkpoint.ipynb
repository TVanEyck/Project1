{
 "cells": [
  {
   "cell_type": "code",
   "execution_count": 1,
   "metadata": {},
   "outputs": [],
   "source": [
    "#Create Dependencies\n",
    "import pandas as pd\n",
    "import matplotlib.pyplot as plt\n",
    "import numpy as np\n",
    "import scipy.stats as st\n",
    "from scipy.stats import linregress"
   ]
  },
  {
   "cell_type": "code",
   "execution_count": 2,
   "metadata": {},
   "outputs": [],
   "source": [
    "#Read in DataFrames\n",
    "\n",
    "#GDP per Capita\n",
    "gdp_per_capita_file = \"Baseline_Indicator_Data/GDP_per_Capita/GDP_per_Capita_Data.csv\"\n",
    "gdp_per_capita_df = pd.read_csv(gdp_per_capita_file, skiprows = 4)\n",
    "\n",
    "#GNI per Capita\n",
    "gni_per_capita_file = \"Baseline_Indicator_Data/GNI_per_Capita/GNI_per_Capita_Data.csv\"\n",
    "gni_per_capita_df = pd.read_csv(gni_per_capita_file, skiprows = 4)\n",
    "\n",
    "#Life Expectancy\n",
    "life_expectancy_file = \"Baseline_Indicator_Data/Life_Expectancy/Life_Expectancy_Data.csv\"\n",
    "life_expectancy_df = pd.read_csv(life_expectancy_file, skiprows = 4)\n",
    "\n",
    "#Infant Mortality\n",
    "infant_mortality_file = \"Baseline_Indicator_Data/Infant_Mortality/Infant_Mortality_Data.csv\"\n",
    "infant_mortality_df = pd.read_csv(infant_mortality_file, skiprows = 4)\n",
    "\n",
    "#Exports\n",
    "exports_file = \"Baseline_Indicator_Data/Exports/Export_Data.csv\"\n",
    "exports_df = pd.read_csv(exports_file, skiprows = 4)\n",
    "\n",
    "#Imports\n",
    "imports_file = \"Baseline_Indicator_Data/Imports/Import_Data.csv\"\n",
    "imports_df = pd.read_csv(imports_file, skiprows = 4)"
   ]
  },
  {
   "cell_type": "code",
   "execution_count": 3,
   "metadata": {},
   "outputs": [],
   "source": [
    "#Add Suffixes to Columns Except Country Code\n",
    "#Code found on https://stackoverflow.com/questions/34049618/how-to-add-a-suffix-or-prefix-to-each-column-name\n",
    "#Add a Suffix to Differentiate Columns For Merge\n",
    "gdp_per_capita_df = gdp_per_capita_df.add_suffix(\"_GDP_Cap\")\n",
    "#Drop Suffix from 'CountryCode' column to Allow Merge\n",
    "gdp_per_capita_df = gdp_per_capita_df.rename(columns = {\"CountryCode_GDP_Cap\":\"CountryCode\"})\n",
    "\n",
    "#Add a Suffix to Differentiate Columns For Merge\n",
    "life_expectancy_df = life_expectancy_df.add_suffix(\"_Life\")\n",
    "#Drop Suffix from 'CountryCode' column to Allow Merge\n",
    "life_expectancy_df = life_expectancy_df.rename(columns = {\"CountryCode_Life\":\"CountryCode\"})\n",
    "\n",
    "#Add a Suffix to Differentiate Columns For Merge\n",
    "infant_mortality_df = infant_mortality_df.add_suffix(\"_Mortality\")\n",
    "#Drop Suffix from 'CountryCode' column to Allow Merge\n",
    "infant_mortality_df = infant_mortality_df.rename(columns = {\"CountryCode_Mortality\":\"CountryCode\"})\n",
    "\n",
    "#Add a Suffix to Differentiate Columns For Merge\n",
    "exports_df = exports_df.add_suffix(\"_Exports\")\n",
    "#Drop Suffix from 'CountryCode' column to Allow Merge\n",
    "exports_df = exports_df.rename(columns = {\"CountryCode_Exports\":\"CountryCode\"})\n",
    "\n",
    "#Add a Suffix to Differentiate Columns For Merge\n",
    "imports_df = imports_df.add_suffix(\"_Imports\")\n",
    "#Drop Suffix from 'CountryCode' column to Allow Merge\n",
    "imports_df = imports_df.rename(columns = {\"CountryCode_Imports\":\"CountryCode\"})"
   ]
  },
  {
   "cell_type": "code",
   "execution_count": 4,
   "metadata": {},
   "outputs": [
    {
     "ename": "PermissionError",
     "evalue": "[Errno 13] Permission denied: 'World_Development_indicators.csv'",
     "output_type": "error",
     "traceback": [
      "\u001b[1;31m---------------------------------------------------------------------------\u001b[0m",
      "\u001b[1;31mPermissionError\u001b[0m                           Traceback (most recent call last)",
      "\u001b[1;32m<ipython-input-4-cc0273e71a70>\u001b[0m in \u001b[0;36m<module>\u001b[1;34m\u001b[0m\n\u001b[0;32m      2\u001b[0m \u001b[1;31m#GDP per Capita & Life Expectancy\u001b[0m\u001b[1;33m\u001b[0m\u001b[1;33m\u001b[0m\u001b[1;33m\u001b[0m\u001b[0m\n\u001b[0;32m      3\u001b[0m \u001b[0msummary_df\u001b[0m \u001b[1;33m=\u001b[0m \u001b[0mpd\u001b[0m\u001b[1;33m.\u001b[0m\u001b[0mmerge\u001b[0m\u001b[1;33m(\u001b[0m\u001b[0mgdp_per_capita_df\u001b[0m\u001b[1;33m,\u001b[0m \u001b[0mlife_expectancy_df\u001b[0m\u001b[1;33m,\u001b[0m \u001b[0mhow\u001b[0m \u001b[1;33m=\u001b[0m \u001b[1;34m\"inner\"\u001b[0m\u001b[1;33m,\u001b[0m \u001b[0mon\u001b[0m \u001b[1;33m=\u001b[0m \u001b[1;34m\"CountryCode\"\u001b[0m\u001b[1;33m)\u001b[0m\u001b[1;33m\u001b[0m\u001b[1;33m\u001b[0m\u001b[0m\n\u001b[1;32m----> 4\u001b[1;33m \u001b[0msummary_df\u001b[0m\u001b[1;33m.\u001b[0m\u001b[0mto_csv\u001b[0m\u001b[1;33m(\u001b[0m\u001b[1;34m\"World_Development_indicators.csv\"\u001b[0m\u001b[1;33m)\u001b[0m\u001b[1;33m\u001b[0m\u001b[1;33m\u001b[0m\u001b[0m\n\u001b[0m\u001b[0;32m      5\u001b[0m \u001b[0msummary_df\u001b[0m\u001b[1;33m\u001b[0m\u001b[1;33m\u001b[0m\u001b[0m\n",
      "\u001b[1;32m~\\Anaconda3\\lib\\site-packages\\pandas\\core\\generic.py\u001b[0m in \u001b[0;36mto_csv\u001b[1;34m(self, path_or_buf, sep, na_rep, float_format, columns, header, index, index_label, mode, encoding, compression, quoting, quotechar, line_terminator, chunksize, date_format, doublequote, escapechar, decimal)\u001b[0m\n\u001b[0;32m   3226\u001b[0m             \u001b[0mdecimal\u001b[0m\u001b[1;33m=\u001b[0m\u001b[0mdecimal\u001b[0m\u001b[1;33m,\u001b[0m\u001b[1;33m\u001b[0m\u001b[1;33m\u001b[0m\u001b[0m\n\u001b[0;32m   3227\u001b[0m         )\n\u001b[1;32m-> 3228\u001b[1;33m         \u001b[0mformatter\u001b[0m\u001b[1;33m.\u001b[0m\u001b[0msave\u001b[0m\u001b[1;33m(\u001b[0m\u001b[1;33m)\u001b[0m\u001b[1;33m\u001b[0m\u001b[1;33m\u001b[0m\u001b[0m\n\u001b[0m\u001b[0;32m   3229\u001b[0m \u001b[1;33m\u001b[0m\u001b[0m\n\u001b[0;32m   3230\u001b[0m         \u001b[1;32mif\u001b[0m \u001b[0mpath_or_buf\u001b[0m \u001b[1;32mis\u001b[0m \u001b[1;32mNone\u001b[0m\u001b[1;33m:\u001b[0m\u001b[1;33m\u001b[0m\u001b[1;33m\u001b[0m\u001b[0m\n",
      "\u001b[1;32m~\\Anaconda3\\lib\\site-packages\\pandas\\io\\formats\\csvs.py\u001b[0m in \u001b[0;36msave\u001b[1;34m(self)\u001b[0m\n\u001b[0;32m    181\u001b[0m                 \u001b[0mself\u001b[0m\u001b[1;33m.\u001b[0m\u001b[0mmode\u001b[0m\u001b[1;33m,\u001b[0m\u001b[1;33m\u001b[0m\u001b[1;33m\u001b[0m\u001b[0m\n\u001b[0;32m    182\u001b[0m                 \u001b[0mencoding\u001b[0m\u001b[1;33m=\u001b[0m\u001b[0mself\u001b[0m\u001b[1;33m.\u001b[0m\u001b[0mencoding\u001b[0m\u001b[1;33m,\u001b[0m\u001b[1;33m\u001b[0m\u001b[1;33m\u001b[0m\u001b[0m\n\u001b[1;32m--> 183\u001b[1;33m                 \u001b[0mcompression\u001b[0m\u001b[1;33m=\u001b[0m\u001b[0mself\u001b[0m\u001b[1;33m.\u001b[0m\u001b[0mcompression\u001b[0m\u001b[1;33m,\u001b[0m\u001b[1;33m\u001b[0m\u001b[1;33m\u001b[0m\u001b[0m\n\u001b[0m\u001b[0;32m    184\u001b[0m             )\n\u001b[0;32m    185\u001b[0m             \u001b[0mclose\u001b[0m \u001b[1;33m=\u001b[0m \u001b[1;32mTrue\u001b[0m\u001b[1;33m\u001b[0m\u001b[1;33m\u001b[0m\u001b[0m\n",
      "\u001b[1;32m~\\Anaconda3\\lib\\site-packages\\pandas\\io\\common.py\u001b[0m in \u001b[0;36m_get_handle\u001b[1;34m(path_or_buf, mode, encoding, compression, memory_map, is_text)\u001b[0m\n\u001b[0;32m    397\u001b[0m         \u001b[1;32mif\u001b[0m \u001b[0mencoding\u001b[0m\u001b[1;33m:\u001b[0m\u001b[1;33m\u001b[0m\u001b[1;33m\u001b[0m\u001b[0m\n\u001b[0;32m    398\u001b[0m             \u001b[1;31m# Encoding\u001b[0m\u001b[1;33m\u001b[0m\u001b[1;33m\u001b[0m\u001b[1;33m\u001b[0m\u001b[0m\n\u001b[1;32m--> 399\u001b[1;33m             \u001b[0mf\u001b[0m \u001b[1;33m=\u001b[0m \u001b[0mopen\u001b[0m\u001b[1;33m(\u001b[0m\u001b[0mpath_or_buf\u001b[0m\u001b[1;33m,\u001b[0m \u001b[0mmode\u001b[0m\u001b[1;33m,\u001b[0m \u001b[0mencoding\u001b[0m\u001b[1;33m=\u001b[0m\u001b[0mencoding\u001b[0m\u001b[1;33m,\u001b[0m \u001b[0mnewline\u001b[0m\u001b[1;33m=\u001b[0m\u001b[1;34m\"\"\u001b[0m\u001b[1;33m)\u001b[0m\u001b[1;33m\u001b[0m\u001b[1;33m\u001b[0m\u001b[0m\n\u001b[0m\u001b[0;32m    400\u001b[0m         \u001b[1;32melif\u001b[0m \u001b[0mis_text\u001b[0m\u001b[1;33m:\u001b[0m\u001b[1;33m\u001b[0m\u001b[1;33m\u001b[0m\u001b[0m\n\u001b[0;32m    401\u001b[0m             \u001b[1;31m# No explicit encoding\u001b[0m\u001b[1;33m\u001b[0m\u001b[1;33m\u001b[0m\u001b[1;33m\u001b[0m\u001b[0m\n",
      "\u001b[1;31mPermissionError\u001b[0m: [Errno 13] Permission denied: 'World_Development_indicators.csv'"
     ]
    }
   ],
   "source": [
    "#Merge the DataFrames\n",
    "#GDP per Capita & Life Expectancy\n",
    "summary_df = pd.merge(gdp_per_capita_df, life_expectancy_df, how = \"inner\", on = \"CountryCode\")\n",
    "summary_df.to_csv(\"World_Development_indicators.csv\")\n",
    "summary_df"
   ]
  },
  {
   "cell_type": "code",
   "execution_count": null,
   "metadata": {},
   "outputs": [],
   "source": [
    "#Merge the DataFrames\n",
    "#Summary & Infant Mortality\n",
    "summary_df = pd.merge(summary_df, infant_mortality_df, how = \"inner\", on = \"CountryCode\")\n",
    "summary_df.to_csv(\"World_Development_indicators.csv\")\n",
    "summary_df"
   ]
  },
  {
   "cell_type": "code",
   "execution_count": null,
   "metadata": {},
   "outputs": [],
   "source": [
    "#Merge the DataFrames\n",
    "#Summary & Exports\n",
    "summary_df = pd.merge(summary_df, exports_df, how = \"inner\", on = \"CountryCode\")\n",
    "summary_df.to_csv(\"World_Development_indicators.csv\")\n",
    "summary_df"
   ]
  },
  {
   "cell_type": "code",
   "execution_count": null,
   "metadata": {},
   "outputs": [],
   "source": [
    "#Merge the DataFrames\n",
    "#Summary & Imports Mortality\n",
    "summary_df = pd.merge(summary_df, imports_df, how = \"inner\", on = \"CountryCode\")\n",
    "summary_df.to_csv(\"World_Development_indicators.csv\")\n",
    "summary_df"
   ]
  },
  {
   "cell_type": "code",
   "execution_count": null,
   "metadata": {},
   "outputs": [],
   "source": [
    "#Create a Scatter Plot of Exports vs GDP per Capita\n",
    "#Drop Null Values\n",
    "summary_df1 = summary_df.dropna(how = \"any\")\n",
    "\n",
    "#1990\n",
    "#Apply Mask to Handle NaN Data\n",
    "#Code Found on https://stackoverflow.com/questions/13643363/linear-regression-of-arrays-containing-nans-in-python-numpy\n",
    "mask = ~np.isnan(summary_df['1990_GDP_Cap']) & ~np.isnan(summary_df['1990_Exports'])\n",
    "#Make the Regression Parameters\n",
    "(slope, intercept, rvalue, pvalue, stderr) = linregress(summary_df['1990_GDP_Cap'][mask], summary_df['1990_Exports'][mask])\n",
    "#Calculate the Regress Values\n",
    "regress_1990 = slope * summary_df['1990_GDP_Cap'] + intercept\n",
    "#Create the Line Equation\n",
    "line_eq_1990 = \"y= \" + str(round(slope,0)) + \"x+ \" + str(round(intercept,0))\n",
    "#Plot the Export vs GDP per Capita Data\n",
    "plt.scatter(summary_df['1990_GDP_Cap'], summary_df['1990_Exports'], c = \"blue\", edgecolors = \"black\")\n",
    "#Plot the Regress Values\n",
    "plt.plot(summary_df['1990_GDP_Cap'], regress_1990, c = \"red\")\n",
    "#Annotate the Line Equation\n",
    "plt.annotate(line_eq_1990, xy = (15000, 2.5*10**12), fontsize = 15, color = \"red\")\n",
    "#Create the Labels\n",
    "plt.title(\"Exports vs GDP per Capita - 1990\")\n",
    "plt.xlabel(\"GDP per Capita (Current US$)\")\n",
    "plt.ylabel(\"Exports of Goods and Services (Current US$) * 10**12\")\n",
    "#Display the R squared Value\n",
    "print(f\"The Rsquared value is {round(rvalue,2)}.\")\n",
    "#Save the Plot as a PNG\n",
    "plt.savefig(\"Exports_vs_GDP_per_Capita_1990.png\")\n",
    "#Show the Plot\n",
    "plt.show()\n",
    "\n",
    "\n",
    "#2017\n",
    "#Apply Mask to Handle NaN Data\n",
    "#Code Found on https://stackoverflow.com/questions/13643363/linear-regression-of-arrays-containing-nans-in-python-numpy\n",
    "mask = ~np.isnan(summary_df['2017_GDP_Cap']) & ~np.isnan(summary_df['2017_Exports'])\n",
    "#Make the Regression Parameters\n",
    "(slope, intercept, rvalue, pvalue, stderr) = linregress(summary_df['2017_GDP_Cap'][mask], summary_df['2017_Exports'][mask])\n",
    "#Calculate the Regress Values\n",
    "regress_2017 = slope * summary_df['2017_GDP_Cap'] + intercept\n",
    "#Create the Line Equation\n",
    "line_eq_2017 = \"y= \" + str(round(slope,0)) + \"x+ \" + str(round(intercept,0))\n",
    "#Plot the Export vs GDP per Capita Data\n",
    "plt.scatter(summary_df['2017_GDP_Cap'], summary_df['2017_Exports'], c = \"red\", edgecolors = \"black\")\n",
    "#Plot the Regress Values\n",
    "plt.plot(summary_df['2017_GDP_Cap'], regress_1990, c = \"red\")\n",
    "#Annotate the Line Equation\n",
    "plt.annotate(line_eq_2017, xy = (40000, 1.0*10**13), fontsize = 15, color = \"red\")\n",
    "#Create the Labels\n",
    "plt.title(\"Exports vs GDP per Capita - 2017\")\n",
    "plt.xlabel(\"GDP per Capita (Current US$)\")\n",
    "plt.ylabel(\"Exports of Goods and Services (Current US$) * 10 **12\")\n",
    "#Display the R squared Value\n",
    "print(f\"The Rsquared value is {round(rvalue,2)}.\")\n",
    "#Save the Plot as a PNG\n",
    "plt.savefig(\"Exports_vs_GDP_per_Capita_2017\")\n",
    "#Show the Plot\n",
    "plt.show()"
   ]
  },
  {
   "cell_type": "code",
   "execution_count": null,
   "metadata": {},
   "outputs": [],
   "source": [
    "#Create a Scatter Plot of Imports vs GDP per Capita\n",
    "plt.scatter(summary_df['1990_GDP_Cap'], summary_df['1990_Imports'], c = \"blue\", edgecolors = \"black\")\n",
    "#Labels\n",
    "plt.title(\"Imports vs GDP per Capita - 1990\")\n",
    "plt.xlabel(\"GDP per Capita (Current US$)\")\n",
    "plt.ylabel(\"Imports of Goods and Services (Current US$) * 10**12\")\n",
    "#Save the Plot as a PNG\n",
    "plt.savefig(\"Imports_vs_GDP_per_Capita_1990.png\")\n",
    "#Show the Plot\n",
    "plt.show()\n",
    "\n",
    "\n"
   ]
  }
 ],
 "metadata": {
  "kernelspec": {
   "display_name": "Python 3",
   "language": "python",
   "name": "python3"
  },
  "language_info": {
   "codemirror_mode": {
    "name": "ipython",
    "version": 3
   },
   "file_extension": ".py",
   "mimetype": "text/x-python",
   "name": "python",
   "nbconvert_exporter": "python",
   "pygments_lexer": "ipython3",
   "version": "3.7.4"
  }
 },
 "nbformat": 4,
 "nbformat_minor": 4
}
