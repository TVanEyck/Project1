{
 "cells": [
  {
   "cell_type": "code",
   "execution_count": null,
   "metadata": {},
   "outputs": [],
   "source": [
    "# Project1\n",
    "\n",
    "#Create Dependencies\n",
    "import pandas as pd\n",
    "import matplotlib.pyplot as plt\n",
    "import numpy as np\n",
    "import scipy.stats as st\n",
    "from scipy.stats import linregress"
   ]
  },
  {
   "cell_type": "code",
   "execution_count": null,
   "metadata": {},
   "outputs": [],
   "source": []
  },
  {
   "cell_type": "code",
   "execution_count": null,
   "metadata": {},
   "outputs": [],
   "source": [
    "#    Read in DataFrames\n",
    "\n",
    "#Life Expectancy\n",
    "life_expectancy_file = \"Baseline_Indicator_Data/Life_Expectancy/Life_Expectancy_Data.csv\"\n",
    "life_expectancy_df = pd.read_csv(life_expectancy_file, skiprows = 4)\n",
    "\n",
    "#Infant Mortality\n",
    "infant_mortality_file = \"Baseline_Indicator_Data/Infant_Mortality/Infant_Mortality_Data.csv\"\n",
    "infant_mortality_df = pd.read_csv(infant_mortality_file, skiprows = 4)"
   ]
  },
  {
   "cell_type": "code",
   "execution_count": null,
   "metadata": {},
   "outputs": [],
   "source": []
  },
  {
   "cell_type": "code",
   "execution_count": null,
   "metadata": {},
   "outputs": [],
   "source": [
    "#•\tCreate Life Expectancy Scatter Plot comparing life expectancy vs. countries together based on GDP per capita.\n",
    "#GDP per Capita & Life Expectancy\n",
    "summary_df = pd.merge(gdp_per_capita_df, life_expectancy_df, how = \"inner\", on = \"CountryCode\")\n",
    "summary_df.to_csv(\"World_Development_indicators.csv\")\n",
    "summary_df"
   ]
  },
  {
   "cell_type": "code",
   "execution_count": null,
   "metadata": {},
   "outputs": [],
   "source": []
  },
  {
   "cell_type": "code",
   "execution_count": null,
   "metadata": {},
   "outputs": [],
   "source": [
    "# Create a Scatter Plot of Exports vs GDP per Capita\n",
    "#"
   ]
  },
  {
   "cell_type": "code",
   "execution_count": null,
   "metadata": {},
   "outputs": [],
   "source": []
  },
  {
   "cell_type": "code",
   "execution_count": null,
   "metadata": {},
   "outputs": [],
   "source": [
    "#       o\tOne for earliest common year (i.e. 1990)\n",
    "#1990\n",
    "#Apply Mask to Handle NaN Data\n",
    "#Code Found on https://stackoverflow.com/questions/13643363/linear-regression-of-arrays-containing-nans-in-python-numpy\n",
    "mask = ~np.isnan(summary_df['1990_GDP_Cap']) & ~np.isnan(summary_df['1990_Exports'])\n",
    "#Make the Regression Parameters\n",
    "(slope, intercept, rvalue, pvalue, stderr) = linregress(summary_df['1990_GDP_Cap'][mask], summary_df['1990_Exports'][mask])\n",
    "#Calculate the Regress Values\n",
    "regress_1990 = slope * summary_df['1990_GDP_Cap'] + intercept\n",
    "#Create the Line Equation\n",
    "line_eq_1990 = \"y= \" + str(round(slope,0)) + \"x+ \" + str(round(intercept,0))\n",
    "#Plot the Export vs GDP per Capita Data\n",
    "plt.scatter(summary_df['1990_GDP_Cap'], summary_df['1990_Exports'], c = \"blue\", edgecolors = \"black\")\n",
    "#Plot the Regress Values\n",
    "plt.plot(summary_df['1990_GDP_Cap'], regress_1990, c = \"red\")\n",
    "#Annotate the Line Equation\n",
    "plt.annotate(line_eq_1990, xy = (15000, 2.5*10**12), fontsize = 15, color = \"red\")\n",
    "#Create the Labels\n",
    "plt.title(\"Exports vs GDP per Capita - 1990\")\n",
    "plt.xlabel(\"GDP per Capita (Current US$)\")\n",
    "plt.ylabel(\"Exports of Goods and Services (Current US$) * 10**12\")\n",
    "#Display the R squared Value\n",
    "print(f\"The Rsquared value is {round(rvalue,2)}.\")\n",
    "#Save the Plot as a PNG\n",
    "plt.savefig(\"Exports_vs_GDP_per_Capita_1990.png\")\n",
    "#Show the Plot\n",
    "plt.show()\n"
   ]
  },
  {
   "cell_type": "code",
   "execution_count": null,
   "metadata": {},
   "outputs": [],
   "source": []
  },
  {
   "cell_type": "code",
   "execution_count": null,
   "metadata": {},
   "outputs": [],
   "source": [
    "#o\tOne for latest common year (i.e. 2017)\n",
    "#2017\n",
    "#Apply Mask to Handle NaN Data\n",
    "#Code Found on https://stackoverflow.com/questions/13643363/linear-regression-of-arrays-containing-nans-in-python-numpy\n",
    "mask = ~np.isnan(summary_df['2017_GDP_Cap']) & ~np.isnan(summary_df['2017_Exports'])\n",
    "#Make the Regression Parameters\n",
    "(slope, intercept, rvalue, pvalue, stderr) = linregress(summary_df['2017_GDP_Cap'][mask], summary_df['2017_Exports'][mask])\n",
    "#Calculate the Regress Values\n",
    "regress_2017 = slope * summary_df['2017_GDP_Cap'] + intercept\n",
    "#Create the Line Equation\n",
    "line_eq_2017 = \"y= \" + str(round(slope,0)) + \"x+ \" + str(round(intercept,0))\n",
    "#Plot the Export vs GDP per Capita Data\n",
    "plt.scatter(summary_df['2017_GDP_Cap'], summary_df['2017_Exports'], c = \"red\", edgecolors = \"black\")\n",
    "#Plot the Regress Values\n",
    "plt.plot(summary_df['2017_GDP_Cap'], regress_1990, c = \"red\")\n",
    "#Annotate the Line Equation\n",
    "plt.annotate(line_eq_2017, xy = (40000, 1.0*10**13), fontsize = 15, color = \"red\")\n",
    "#Create the Labels\n",
    "plt.title(\"Exports vs GDP per Capita - 2017\")\n",
    "plt.xlabel(\"GDP per Capita (Current US$)\")\n",
    "plt.ylabel(\"Exports of Goods and Services (Current US$) * 10 **12\")\n",
    "#Display the R squared Value\n",
    "print(f\"The Rsquared value is {round(rvalue,2)}.\")\n",
    "#Save the Plot as a PNG\n",
    "plt.savefig(\"Exports_vs_GDP_per_Capita_2017\")\n",
    "#Show the Plot\n",
    "plt.show()"
   ]
  },
  {
   "cell_type": "code",
   "execution_count": null,
   "metadata": {},
   "outputs": [],
   "source": []
  },
  {
   "cell_type": "code",
   "execution_count": null,
   "metadata": {},
   "outputs": [],
   "source": [
    "#o\tSet the plot title, xlabel, & ylabel\n",
    "#o\tCreate regression parameters\n",
    "#o\tCreate the line equation.\n",
    "#o\tPlot the regress values on the Scatter Plots.\n",
    "#o\tAnnotate the line equations on the Scatter Plots."
   ]
  },
  {
   "cell_type": "code",
   "execution_count": null,
   "metadata": {},
   "outputs": [],
   "source": []
  },
  {
   "cell_type": "code",
   "execution_count": null,
   "metadata": {},
   "outputs": [],
   "source": []
  },
  {
   "cell_type": "code",
   "execution_count": null,
   "metadata": {},
   "outputs": [],
   "source": [
    "#•\tCreate Infant Mortality Rate Scatter Plot comparing life expectancy vs. countries together based on GDP per capita.\n",
    "#Merge the DataFrames\n",
    "#Summary & Infant Mortality\n",
    "summary_df = pd.merge(summary_df, infant_mortality_df, how = \"inner\", on = \"CountryCode\")\n",
    "summary_df.to_csv(\"World_Development_indicators.csv\")\n",
    "summary_df"
   ]
  },
  {
   "cell_type": "code",
   "execution_count": null,
   "metadata": {},
   "outputs": [],
   "source": []
  },
  {
   "cell_type": "code",
   "execution_count": null,
   "metadata": {},
   "outputs": [],
   "source": []
  },
  {
   "cell_type": "code",
   "execution_count": null,
   "metadata": {},
   "outputs": [],
   "source": []
  },
  {
   "cell_type": "code",
   "execution_count": null,
   "metadata": {},
   "outputs": [],
   "source": [
    "#o\tOne for earliest common year (i.e. 1990)\n",
    "#o\tOne for latest common year (i.e. 2017)\n",
    "#o\tSet the plot title, xlabel, & ylabel\n",
    "#o\tCreate regression parameters\n",
    "#o\tCreate the line equation.\n",
    "#o\tPlot the regress values on the Scatter Plots.\n",
    "#o\tAnnotate the line equations on the Scatter Plots."
   ]
  }
 ],
 "metadata": {
  "kernelspec": {
   "display_name": "Python [conda env:PythonData] *",
   "language": "python",
   "name": "conda-env-PythonData-py"
  },
  "language_info": {
   "codemirror_mode": {
    "name": "ipython",
    "version": 3
   },
   "file_extension": ".py",
   "mimetype": "text/x-python",
   "name": "python",
   "nbconvert_exporter": "python",
   "pygments_lexer": "ipython3",
   "version": "3.6.10"
  }
 },
 "nbformat": 4,
 "nbformat_minor": 4
}
